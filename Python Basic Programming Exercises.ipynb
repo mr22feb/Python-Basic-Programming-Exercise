{
 "cells": [
  {
   "cell_type": "markdown",
   "metadata": {},
   "source": [
    "## Python Basic Programming Exercises"
   ]
  },
  {
   "cell_type": "markdown",
   "metadata": {},
   "source": [
    "#### Q1: What is the output of following expression\n",
    "    5 + 4 * 9 % (3 + 1) / 6 - 1"
   ]
  },
  {
   "cell_type": "code",
   "execution_count": 2,
   "metadata": {},
   "outputs": [
    {
     "name": "stdout",
     "output_type": "stream",
     "text": [
      "4.0\n"
     ]
    }
   ],
   "source": [
    "result = 5 + 4 * 9 % (3 + 1) / 6 - 1\n",
    "print(result)"
   ]
  },
  {
   "cell_type": "markdown",
   "metadata": {},
   "source": [
    "#### Q2: Write a program to check if a Number is Odd or Even. Take number as a input from user at runtime."
   ]
  },
  {
   "cell_type": "code",
   "execution_count": null,
   "metadata": {},
   "outputs": [],
   "source": [
    "numb= int(input('please enter a num'))\n",
    " \n",
    "if numb %2 ==0:\n",
    "    print('number is even ',numb )\n",
    "else:\n",
    "    print('number is odd', numb )\n",
    "    "
   ]
  },
  {
   "cell_type": "markdown",
   "metadata": {},
   "source": [
    "#### Q3: Write a program to display the multiplication table by taking a number as input. \n",
    "  [Hint : Use print statement inside of a loop]"
   ]
  },
  {
   "cell_type": "code",
   "execution_count": 1,
   "metadata": {},
   "outputs": [
    {
     "name": "stdout",
     "output_type": "stream",
     "text": [
      "please entere a number5\n",
      "5 x 1 = 5\n",
      "5 x 2 = 10\n",
      "5 x 3 = 15\n",
      "5 x 4 = 20\n",
      "5 x 5 = 25\n",
      "5 x 6 = 30\n",
      "5 x 7 = 35\n",
      "5 x 8 = 40\n",
      "5 x 9 = 45\n",
      "5 x 10 = 50\n"
     ]
    }
   ],
   "source": [
    "tbl=  int(input('please entere a number'))\n",
    "\n",
    "i = 1\n",
    "while i <=10:\n",
    "        print(f'{tbl} x {i} = {tbl*i}')\n",
    "        i+=1\n",
    "        \n"
   ]
  },
  {
   "cell_type": "markdown",
   "metadata": {},
   "source": [
    "#### Q4: Write a program which will find all numbers between 2000 and 3200 which are divisible by 7 but are not a multiple of 5.\n",
    " \n",
    "##### Note: The numbers obtained should be printed in a comma-separated sequence on a single line."
   ]
  },
  {
   "cell_type": "code",
   "execution_count": null,
   "metadata": {},
   "outputs": [],
   "source": [
    "result= []\n",
    "\n",
    "number = list(range(2000,3201))\n",
    "\n",
    "\n",
    "for x in number:\n",
    "    if x % 7 == 0 and x % 5 !=0:\n",
    "        result.append(x)\n",
    "        \n",
    "print(result)        \n",
    "    \n",
    "    "
   ]
  },
  {
   "cell_type": "markdown",
   "metadata": {},
   "source": [
    "#### Q5: Count the elements of each datatype inside the list and display in output\n",
    "   [2, 3, 'Py', '10', 1, 'SQL', 5.5, True, 3, 'John', None, 7]    "
   ]
  },
  {
   "cell_type": "code",
   "execution_count": 4,
   "metadata": {},
   "outputs": [
    {
     "name": "stdout",
     "output_type": "stream",
     "text": [
      "int_count 7\n",
      "str_count 4\n",
      "float_count 1\n",
      "bool_count  0\n",
      "None_count 1\n"
     ]
    }
   ],
   "source": [
    "int_count=0\n",
    "str_count=0\n",
    "float_count=0\n",
    "bool_count =0\n",
    "None_count = 0\n",
    "\n",
    "org_list= [2, 3,6, 'Py', '10', 1, 'SQL', 5.5, True, 3, 'John', None, 7]    \n",
    "\n",
    "for x in org_list:\n",
    "    if isinstance(x,int):\n",
    "        int_count += 1\n",
    "        \n",
    "    elif isinstance(x,str):\n",
    "        str_count += 1\n",
    "       \n",
    "    elif isinstance(x,float):\n",
    "        float_count += 1\n",
    "        \n",
    "    elif isinstance(x,bool):\n",
    "        bool_count +=1\n",
    "    elif x == None:\n",
    "        None_count +=1\n",
    "        \n",
    "print (\"int_count\",int_count)\n",
    "print (\"str_count\",str_count)\n",
    "print (\"float_count\",float_count)\n",
    "print (\"bool_count \",bool_count)\n",
    "print (\"None_count\",None_count)\n",
    " \n",
    "    \n",
    "    \n"
   ]
  },
  {
   "cell_type": "markdown",
   "metadata": {},
   "source": [
    "#### Q6: Add all values from the list with numeric datatypes \n",
    "   [2, 3, 'Py', '10', 1, 'SQL', 5.5, True, 3, 'John', None, 7] "
   ]
  },
  {
   "cell_type": "code",
   "execution_count": 7,
   "metadata": {},
   "outputs": [
    {
     "data": {
      "text/plain": [
       "21.5"
      ]
     },
     "execution_count": 7,
     "metadata": {},
     "output_type": "execute_result"
    }
   ],
   "source": [
    "dt = [2, 3, 'Py', '10', 1, 'SQL', 5.5, True, 3, 'John', None, 7] \n",
    "\n",
    "sum_of_int = 0\n",
    "\n",
    "for i in dt:\n",
    "    if type(i) in [int,float]:\n",
    "        sum_of_int += i \n",
    "    \n",
    "sum_of_int \n",
    "\n"
   ]
  },
  {
   "cell_type": "code",
   "execution_count": null,
   "metadata": {},
   "outputs": [],
   "source": [
    "## 2nd method (using filter and lambda fucntion)\n",
    "\n",
    "sum(list(filter(lambda x: True if type(x) in [int,float,bool] else False,dt)))"
   ]
  },
  {
   "cell_type": "code",
   "execution_count": 10,
   "metadata": {},
   "outputs": [
    {
     "data": {
      "text/plain": [
       "[2, 3, 1, 5.5, True, 3, 7]"
      ]
     },
     "execution_count": 10,
     "metadata": {},
     "output_type": "execute_result"
    }
   ],
   "source": [
    "list(filter(lambda x: True if type(x) in [int,float,bool] else False,dt))"
   ]
  },
  {
   "cell_type": "markdown",
   "metadata": {},
   "source": [
    "#### Q7: Concat all str datatypes with hyphen as a delimiter\n",
    "   [2, 3, 'Py', '10', 1, 'SQL', 5.5, True, 3, 'John', None, 7] "
   ]
  },
  {
   "cell_type": "code",
   "execution_count": null,
   "metadata": {},
   "outputs": [],
   "source": [
    "l2 = [2, 3, 'Py', '10', 1, 'SQL', 5.5, True, 3, 'John', None, 7] \n",
    "\n",
    "result = []\n",
    "\n",
    "output = list(filter(lambda x : True if type(x) == str else False,l2 ))\n",
    "\n",
    "result.append(output)\n",
    "hyphen  = '-'.join(result[0])\n",
    "print(hyphen)"
   ]
  },
  {
   "cell_type": "code",
   "execution_count": null,
   "metadata": {},
   "outputs": [],
   "source": [
    "l2 = [2, 3, 'Py', '10', 1, 'SQL', 5.5, True, 3, 'John', None, 7] \n",
    "result = []\n",
    "\n",
    "for x in l2:\n",
    "    if type(x) == str:\n",
    "        result.append(x)\n",
    "    \n",
    "    hyphen =  '-'.join(result)\n",
    "    \n",
    "hyphen"
   ]
  },
  {
   "cell_type": "markdown",
   "metadata": {},
   "source": [
    "#### Q8: Write a UDF that takes list as input and returns sum of all numbers \n",
    "   (exclude bool) and count of all str \n",
    "    [2, 3, 'Py', '10', 1, 'SQL', 5.5, True, 3, 'John', None, 7] \n",
    "    \n",
    "#### Hint:\n",
    "-----\n",
    "def my_func:\n",
    "    # your code\n",
    "        \n",
    "my_func(l1)\n",
    "#### output --> {'Sum': xxx, 'Count_of_Strs': xxx}"
   ]
  },
  {
   "cell_type": "code",
   "execution_count": null,
   "metadata": {},
   "outputs": [],
   "source": [
    "def my_func(input_list):\n",
    "    sum_int = 0\n",
    "    count_str = 0\n",
    "    \n",
    "    for i in input_list:\n",
    "        if type(i) in (int,float):\n",
    "            sum_int += i \n",
    "            \n",
    "        elif type(i) == str:\n",
    "            count_str += 1\n",
    "            \n",
    "    result = {'Sum': sum_int, 'Count_of_Strs': count_str}\n",
    "    return result\n",
    "\n",
    "l1 = [2, 3, 'Py', '10', 1, 'SQL', 5.5, True, 3, 'John', None, 7]\n",
    "\n",
    "output = my_func(l1)\n",
    "print(output)\n",
    "\n"
   ]
  },
  {
   "cell_type": "raw",
   "metadata": {},
   "source": [
    "Q9: Get only odd numbers from the following list and store the numbers in new list\n",
    "    li = [5, 7, 22, 97, 54, 62, 77, 23, 73, 61]\n",
    "\n",
    "    i. Use loops to get the answer\n",
    "   ii. Use list comprehensions\n",
    "  iii. Use lambda function with filter"
   ]
  },
  {
   "cell_type": "code",
   "execution_count": null,
   "metadata": {},
   "outputs": [],
   "source": [
    "##method i (for loop)\n",
    "\n",
    "li = [5, 7, 22, 97, 54, 62, 77, 23, 73, 61]\n",
    "\n",
    "odd_num= []\n",
    "\n",
    "for x in li:\n",
    "    if x % 2 != 0:\n",
    "        odd_num.append(x)\n",
    "\n",
    "print(odd_num)\n",
    "\n"
   ]
  },
  {
   "cell_type": "code",
   "execution_count": null,
   "metadata": {},
   "outputs": [],
   "source": [
    "##method ii (using list comprehensions)\n",
    "\n",
    "\n",
    "li = [5, 7, 22, 97, 54, 62, 77, 23, 73, 61]\n",
    "\n",
    "odd_num =[y for y in li if y % 2 != 0]\n",
    "\n",
    "print(odd_num)"
   ]
  },
  {
   "cell_type": "code",
   "execution_count": null,
   "metadata": {},
   "outputs": [],
   "source": [
    "## method iii (using lambda and filter function)\n",
    "\n",
    "li = [5, 7, 22, 97, 54, 62, 77, 23, 73, 61]\n",
    "\n",
    "odd_num =list ( filter(lambda x: x % 2 != 0,li))\n",
    "\n",
    "print(odd_num)"
   ]
  },
  {
   "cell_type": "raw",
   "metadata": {},
   "source": [
    "Q10: Write a UDF to return the descriptives [sum, count, min, mean, max] for a list of n number of input numbers."
   ]
  },
  {
   "cell_type": "code",
   "execution_count": 11,
   "metadata": {},
   "outputs": [],
   "source": [
    "def my_func(*numbers):\n",
    "\n",
    "    \n",
    "    output_list= {\n",
    "    'Sum': sum(numbers),\n",
    "    'Count': len(numbers),\n",
    "    'Min': min(numbers),\n",
    "    'Max': max(numbers),\n",
    "    'Mean' : sum(numbers)/len(numbers)\n",
    "    }\n",
    "\n",
    "    return(output_list)\n",
    "\n"
   ]
  },
  {
   "cell_type": "code",
   "execution_count": 12,
   "metadata": {},
   "outputs": [
    {
     "data": {
      "text/plain": [
       "{'Sum': 23, 'Count': 4, 'Min': 4, 'Max': 8, 'Mean': 5.75}"
      ]
     },
     "execution_count": 12,
     "metadata": {},
     "output_type": "execute_result"
    }
   ],
   "source": [
    "my_func(5,8,6,4)"
   ]
  },
  {
   "cell_type": "raw",
   "metadata": {},
   "source": [
    "Q11: Write an udf to calculate the area of different shapes\n",
    "\n",
    "Take shape and dimensions as arguments to udf as follows : \n",
    "\n",
    "1. square which has side\n",
    "2. rectangle which has length and width\n",
    "3. circle which has radius\n",
    "\n",
    "The shape should be a positional argument and it's dimensions are taken as kwargs\n",
    "\n",
    "Perform proper validation for the user inputs and then calculate area.\n",
    "\n",
    "E.g. if shape is square, ensure kwargs has \"side\" and if so, then you may return the area, else display appropriate error message like \"Please enter 'side' for a square\""
   ]
  },
  {
   "cell_type": "code",
   "execution_count": null,
   "metadata": {},
   "outputs": [],
   "source": []
  },
  {
   "cell_type": "code",
   "execution_count": 2,
   "metadata": {},
   "outputs": [],
   "source": [
    "def cal_dim(shape,**dimensions):\n",
    "    \n",
    "    area = 0\n",
    "    \n",
    "    if shape == 'square':\n",
    "        area = dimensions['side']**2\n",
    "    \n",
    "    elif shape == 'rectangle':\n",
    "        area = dimensions['length'] * dimensions['breadth']\n",
    "    \n",
    "    elif shape == 'circle':\n",
    "        area = 22/7 * dimensions['radius']**2\n",
    "        \n",
    "    else:\n",
    "        return 'invalid input'\n",
    "    \n",
    "    return area\n",
    "\n",
    "         \n",
    "    "
   ]
  },
  {
   "cell_type": "code",
   "execution_count": 4,
   "metadata": {},
   "outputs": [
    {
     "data": {
      "text/plain": [
       "4"
      ]
     },
     "execution_count": 4,
     "metadata": {},
     "output_type": "execute_result"
    }
   ],
   "source": [
    "cal_dim('square',side = 2)"
   ]
  },
  {
   "cell_type": "raw",
   "metadata": {},
   "source": [
    "Q12: Write a UDF to reconcile the values within two lists.\n",
    "    l1 = ['January', 'February', 'March', 'May', 'June', 'September', 'December']\n",
    "    l2 = ['January', 'February', 'April', 'June', 'October', 'December']\n",
    "\n",
    "Hint:\n",
    "-----\n",
    "def func(l1, l2):\n",
    "    your code here...\n",
    "    \n",
    "Output:\n",
    "{'Matched': ['January', 'February', 'June', 'December'],\n",
    "    'Only in l1': ['March', 'May', 'September'],\n",
    "        'Only in l2': ['April', 'October']}"
   ]
  },
  {
   "cell_type": "code",
   "execution_count": null,
   "metadata": {},
   "outputs": [],
   "source": [
    "def reconcile_list(l1,l2):\n",
    "    matched=[item for item in l1 if item in l2]\n",
    "    only_in_l1 = [item for item in l1 if item not in l2]\n",
    "    only_in_l2 = [item for item in l2 if item not in l1]\n",
    "    \n",
    "    result = {'matched':matched,'only in l1':only_in_l1, 'only in l2': only_in_l2}\n",
    "    \n",
    "    return result\n",
    "\n",
    "    \n",
    "reconcile_list(['January', 'February', 'March', 'May', 'June', 'September', 'December'],\n",
    "['January', 'February', 'April', 'June', 'October', 'December'])"
   ]
  },
  {
   "cell_type": "raw",
   "metadata": {
    "collapsed": true
   },
   "source": [
    "Q13: write a UDF to check if a number is prime or not."
   ]
  },
  {
   "cell_type": "code",
   "execution_count": null,
   "metadata": {},
   "outputs": [],
   "source": [
    "def prime_num(n):\n",
    "\n",
    "    if n < 2:\n",
    "        print('not a prime')\n",
    "    else:\n",
    "        for i in range(2,n):\n",
    "            if(n%i==0):\n",
    "                print('not a prime')\n",
    "                break\n",
    "        else:\n",
    "            print('PRIME NUMBER')\n",
    "        \n",
    "prime_num(312)"
   ]
  },
  {
   "cell_type": "code",
   "execution_count": null,
   "metadata": {},
   "outputs": [],
   "source": [
    "##method (ii)\n",
    "\n",
    "def is_prime(number):\n",
    "    \n",
    "    is_prime = True\n",
    "    \n",
    "    for i in range(2,number):\n",
    "        if number % i == 0:\n",
    "            is_prime= False\n",
    "    \n",
    "    return is_prime\n",
    "\n",
    "is_prime(15)"
   ]
  },
  {
   "cell_type": "raw",
   "metadata": {
    "collapsed": true
   },
   "source": [
    "\n",
    "Q14. Write a program which can compute the factorial of a given numbers. \n",
    "\n",
    "# input() function can be used for getting user(console) input\n",
    "\n",
    "\n",
    "#Suppose the input is supplied to the program:  8  \n",
    "#Then, the output should be:  40320 \n",
    "#Hints: In case of input data being supplied to the question, it should be assumed to be a console input. \n"
   ]
  },
  {
   "cell_type": "code",
   "execution_count": null,
   "metadata": {},
   "outputs": [],
   "source": [
    "i = int(input('enter a number: '))\n",
    "fac = 1\n",
    "\n",
    "while i > 0:\n",
    "    fac = fac * i\n",
    "    i = i - 1\n",
    "print('Factorial =',fac)\n",
    " \n",
    "    "
   ]
  },
  {
   "cell_type": "raw",
   "metadata": {
    "collapsed": true
   },
   "source": [
    "Q15. With a given integral number n, write a program to generate a dictionary that contains (i, i*i) such that is an integral number between 1 and n (both included). and then the program should print the dictionary.\n",
    "\n",
    "#Suppose the following input is supplied to the program: 8\n",
    "#Then, the output should be: {1: 1, 2: 4, 3: 9, 4: 16, 5: 25, 6: 36, 7: 49, 8: 64}\n",
    "#Hints: In case of input data being supplied to the question, it should be assumed to be a console input. Consider using dict()\n",
    "\n"
   ]
  },
  {
   "cell_type": "code",
   "execution_count": null,
   "metadata": {},
   "outputs": [],
   "source": [
    " \n",
    "n = int(input('please enter a number: '))\n",
    "\n",
    "sqr_dict = {}\n",
    "\n",
    "for i in range(1,n+1):\n",
    "    sqr_dict[i]= i**2\n",
    "\n",
    "sqr_dict"
   ]
  },
  {
   "cell_type": "raw",
   "metadata": {
    "collapsed": true
   },
   "source": [
    "Q16. Write a program which accepts a sequence of comma-separated numbers from console and generate a list and a tuple which contains every number.\n",
    "#Suppose the following input is supplied to the program: 34,67,55,33,12,98\n",
    "    #Then, the output should be: ['34', '67', '55', '33', '12', '98'] ('34', '67', '55', '33', '12', '98')\n",
    "\n",
    "#Hints: In case of input data being supplied to the question, it should be assumed to be a console input. you may use tuple() method to convert list to tuple\n"
   ]
  },
  {
   "cell_type": "code",
   "execution_count": 13,
   "metadata": {},
   "outputs": [
    {
     "name": "stdout",
     "output_type": "stream",
     "text": [
      "please enter number in comma seprated form 5,8,6\n",
      "['5', '8', '6'] ('5', '8', '6')\n"
     ]
    }
   ],
   "source": [
    "num = input('please enter number in comma seprated form ')\n",
    "\n",
    "output_list = num.split(',')\n",
    "output_tupple = tuple(output_list)\n",
    "\n",
    "print(output_list,output_tupple)\n",
    "\n"
   ]
  },
  {
   "cell_type": "raw",
   "metadata": {
    "collapsed": true
   },
   "source": [
    "Q17. Write a program that accepts a comma separated sequence of words as input and \n",
    "# prints the words in a comma-separated sequence after sorting them alphabetically.\n",
    "\n",
    "# Suppose the following input is supplied to the program: without,hello,bag,world\n",
    "# Then, the output should be: bag,hello,without,world\n",
    "\n",
    "#Hints: In case of input data being supplied to the question, it should be assumed to be a console input.\n"
   ]
  },
  {
   "cell_type": "code",
   "execution_count": null,
   "metadata": {},
   "outputs": [],
   "source": [
    "words= input('enter comma sperated words : ').split(',')\n",
    "\n",
    "words.sort()\n",
    "\n",
    "words"
   ]
  },
  {
   "cell_type": "raw",
   "metadata": {
    "collapsed": true
   },
   "source": [
    "Q18. Write a program that accepts a sequence of whitespace separated words \n",
    "# as input and prints the words after removing all duplicate words and sorting them alphanumerically.\n",
    "# Suppose the following input is supplied to the program: hello world and practice makes perfect and hello world again\n",
    "# Then, the output should be: again and hello makes perfect practice world\n",
    "\n",
    "#Hints: In case of input data being supplied to the question, it should be assumed to be a console input.\n",
    "#We use set container to remove duplicated data automatically and then use sorted() to sort the data.\n"
   ]
  },
  {
   "cell_type": "code",
   "execution_count": 24,
   "metadata": {},
   "outputs": [
    {
     "name": "stdout",
     "output_type": "stream",
     "text": [
      "enter comma sperated words : karan,is,a,good\n"
     ]
    },
    {
     "data": {
      "text/plain": [
       "['a', 'good', 'is', 'karan']"
      ]
     },
     "execution_count": 24,
     "metadata": {},
     "output_type": "execute_result"
    }
   ],
   "source": [
    "words= input('enter comma sperated words : ').split(',')\n",
    "\n",
    "words =list(set(words))\n",
    "\n",
    "words.sort()\n",
    "words\n"
   ]
  },
  {
   "cell_type": "raw",
   "metadata": {
    "collapsed": true
   },
   "source": [
    "Q19. Write a program that accepts a sentence and calculate the number of upper case \n",
    "# letters and lower case letters.\n",
    "#Suppose the following input is supplied to the program: Hello world!\n",
    "#Then, the output should be: UPPER CASE 1 LOWER CASE 9\n",
    "\n",
    "#Hints: In case of input data being supplied to the question, it should be assumed to be a console input.\n"
   ]
  },
  {
   "cell_type": "code",
   "execution_count": null,
   "metadata": {},
   "outputs": [],
   "source": [
    "sen = input('please enter a sentece : ')\n",
    "upper_count = 0\n",
    "lower_count = 0\n",
    "\n",
    "for i in sen :\n",
    "    if i.isupper():\n",
    "        upper_count += 1\n",
    "    else:\n",
    "        lower_count += 1\n",
    "\n",
    "print('upper count',upper_count)\n",
    "print('lower count',lower_count)\n",
    "        "
   ]
  },
  {
   "cell_type": "raw",
   "metadata": {
    "collapsed": true
   },
   "source": [
    "Q20. Write a program that takes a string and returns reversed string. i.e. if input is \"abcd123\" output should be \"321dcba\""
   ]
  },
  {
   "cell_type": "code",
   "execution_count": null,
   "metadata": {},
   "outputs": [],
   "source": [
    "n = input('please entere a string : ')\n",
    "\n",
    "reverse = n[::-1]\n",
    "\n",
    "print(reverse)"
   ]
  },
  {
   "cell_type": "code",
   "execution_count": null,
   "metadata": {},
   "outputs": [],
   "source": []
  }
 ],
 "metadata": {
  "kernelspec": {
   "display_name": "Python 3 (ipykernel)",
   "language": "python",
   "name": "python3"
  },
  "language_info": {
   "codemirror_mode": {
    "name": "ipython",
    "version": 3
   },
   "file_extension": ".py",
   "mimetype": "text/x-python",
   "name": "python",
   "nbconvert_exporter": "python",
   "pygments_lexer": "ipython3",
   "version": "3.11.4"
  },
  "varInspector": {
   "cols": {
    "lenName": 16,
    "lenType": 16,
    "lenVar": 40
   },
   "kernels_config": {
    "python": {
     "delete_cmd_postfix": "",
     "delete_cmd_prefix": "del ",
     "library": "var_list.py",
     "varRefreshCmd": "print(var_dic_list())"
    },
    "r": {
     "delete_cmd_postfix": ") ",
     "delete_cmd_prefix": "rm(",
     "library": "var_list.r",
     "varRefreshCmd": "cat(var_dic_list()) "
    }
   },
   "types_to_exclude": [
    "module",
    "function",
    "builtin_function_or_method",
    "instance",
    "_Feature"
   ],
   "window_display": false
  }
 },
 "nbformat": 4,
 "nbformat_minor": 2
}
